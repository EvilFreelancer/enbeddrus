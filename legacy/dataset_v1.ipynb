{
 "cells": [
  {
   "cell_type": "code",
   "id": "initial_id",
   "metadata": {
    "collapsed": true
   },
   "source": [
    "import pandas as pd\n",
    "\n",
    "news_reviews_en_hr_profs = pd.read_table(\n",
    "    \"https://raw.githubusercontent.com/katjakaterina/dihutra/main/en-hr.news%2Breviews.profs.id%2Ben%2Bhr.tsv\",\n",
    "    names=[\"uid\", \"project\", \"en\", \"hr\"],\n",
    "    sep='\\t',\n",
    ")\n",
    "# news_reviews_en_hr_studs = pd.read_table(\n",
    "#     \"https://raw.githubusercontent.com/katjakaterina/dihutra/main/en-hr.news%2Breviews.studs.id%2Ben%2Bhr.tsv\",\n",
    "#     names=[\"id\", \"project\", \"en\", \"hr\"],\n",
    "#     sep='\\t',\n",
    "# )\n",
    "\n",
    "news_reviews_en_ru_profs = pd.read_table(\n",
    "    \"https://raw.githubusercontent.com/katjakaterina/dihutra/main/en-ru.news%2Breviews.profs.id%2Ben%2Bru.tsv\",\n",
    "    names=[\"uid\", \"project\", \"en\", \"ru\"],\n",
    "    sep='\\t',\n",
    ")\n",
    "# news_reviews_en_ru_studs = pd.read_table(\n",
    "#     \"https://raw.githubusercontent.com/katjakaterina/dihutra/main/en-ru.news%2Breviews.studs.id%2Ben%2Bru.tsv\",\n",
    "#     names=[\"id\", \"project\", \"en\", \"ru\"],\n",
    "#     sep='\\t', \n",
    "# )"
   ],
   "outputs": [],
   "execution_count": null
  },
  {
   "metadata": {},
   "cell_type": "code",
   "source": [
    "from sklearn.model_selection import train_test_split\n",
    "\n",
    "profs_df = pd.merge(news_reviews_en_hr_profs, news_reviews_en_ru_profs, on='en')  # Merge all languages\n",
    "profs_df = profs_df[['uid_x', 'en', 'ru', 'hr']]  # Select only required fields\n",
    "profs_df = profs_df.rename(columns={'uid_x': 'uid'})  # Let's rename uid_x to uid\n",
    "profs_df[\"id\"] = profs_df.index + 1  # Need to add an id column with index\n",
    "\n",
    "profs_train, profs_test = train_test_split(profs_df, test_size=0.1)\n",
    "profs_train.to_csv('./dataset/corpus.csv', index=False)  # Save training dataset\n",
    "profs_test.to_csv('./dataset/queries.csv', index=False)  # Save evaluation dataset"
   ],
   "id": "2d92722775938e77",
   "outputs": [],
   "execution_count": null
  },
  {
   "metadata": {},
   "cell_type": "code",
   "source": [
    "profs_json = profs_df[['id', 'en']]\n",
    "profs_json = profs_json.rename(columns={'en': 'text', 'id': '_id'})\n",
    "profs_json = profs_json.assign(title=\"\")\n",
    "profs_json = profs_json.astype({'_id': 'string'})\n",
    "\n",
    "profs_train, profs_test = train_test_split(profs_json, test_size=0.1)\n",
    "profs_train.to_json('./dataset/corpus.jsonl', orient='records', lines=True)  # Save training dataset\n",
    "profs_test.to_json('./dataset/queries.jsonl', orient='records', lines=True)  # Save evaluation dataset"
   ],
   "id": "5b28a2a9a38d0251",
   "outputs": [],
   "execution_count": null
  }
 ],
 "metadata": {
  "kernelspec": {
   "display_name": "Python 3",
   "language": "python",
   "name": "python3"
  },
  "language_info": {
   "codemirror_mode": {
    "name": "ipython",
    "version": 2
   },
   "file_extension": ".py",
   "mimetype": "text/x-python",
   "name": "python",
   "nbconvert_exporter": "python",
   "pygments_lexer": "ipython2",
   "version": "2.7.6"
  }
 },
 "nbformat": 4,
 "nbformat_minor": 5
}
