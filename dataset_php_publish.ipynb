{
 "cells": [
  {
   "cell_type": "code",
   "id": "initial_id",
   "metadata": {
    "collapsed": true,
    "ExecuteTime": {
     "end_time": "2024-05-19T14:04:08.999254Z",
     "start_time": "2024-05-19T14:04:08.987170Z"
    }
   },
   "source": [
    "import pandas as pd\n",
    "\n",
    "# Load datasets\n",
    "df_php_eval = pd.read_csv('dataset_php_eval.csv')\n",
    "df_php_train = pd.read_csv('./dataset/docs_php.undup.csv')\n",
    "\n",
    "# Reindex evaluation dataset\n",
    "df_php_eval.drop(columns=['id'], inplace=True)\n",
    "df_php_eval.reset_index(drop=True, inplace=True)\n",
    "df_php_eval.index.name = 'id'\n",
    "\n",
    "# Reindex training dataset\n",
    "df_php_train.drop(columns=['id'], inplace=True)\n",
    "df_php_train.reset_index(drop=True, inplace=True)\n",
    "df_php_train.index.name = 'id'"
   ],
   "outputs": [],
   "execution_count": 57
  },
  {
   "metadata": {
    "ExecuteTime": {
     "end_time": "2024-05-19T14:04:10.904727Z",
     "start_time": "2024-05-19T14:04:10.894927Z"
    }
   },
   "cell_type": "code",
   "source": [
    "from datasets import DatasetDict, Dataset\n",
    "\n",
    "dataset = DatasetDict({\n",
    "    'train': Dataset.from_pandas(df_php_train),\n",
    "    'eval': Dataset.from_pandas(df_php_eval),\n",
    "})\n",
    "\n",
    "dataset"
   ],
   "id": "5df6d136443c5f80",
   "outputs": [
    {
     "data": {
      "text/plain": [
       "DatasetDict({\n",
       "    train: Dataset({\n",
       "        features: ['English', 'Russian'],\n",
       "        num_rows: 1607\n",
       "    })\n",
       "    eval: Dataset({\n",
       "        features: ['English', 'Russian'],\n",
       "        num_rows: 100\n",
       "    })\n",
       "})"
      ]
     },
     "execution_count": 58,
     "metadata": {},
     "output_type": "execute_result"
    }
   ],
   "execution_count": 58
  },
  {
   "metadata": {
    "ExecuteTime": {
     "end_time": "2024-05-19T14:04:19.872704Z",
     "start_time": "2024-05-19T14:04:15.636396Z"
    }
   },
   "cell_type": "code",
   "source": "dataset.push_to_hub('evilfreelancer/php-ru-en')",
   "id": "f61e2d1a032a455e",
   "outputs": [
    {
     "data": {
      "text/plain": [
       "Uploading the dataset shards:   0%|          | 0/1 [00:00<?, ?it/s]"
      ],
      "application/vnd.jupyter.widget-view+json": {
       "version_major": 2,
       "version_minor": 0,
       "model_id": "3537c0d0d30147d0a3c858a6dfc1a7b1"
      }
     },
     "metadata": {},
     "output_type": "display_data"
    },
    {
     "data": {
      "text/plain": [
       "Creating parquet from Arrow format:   0%|          | 0/2 [00:00<?, ?ba/s]"
      ],
      "application/vnd.jupyter.widget-view+json": {
       "version_major": 2,
       "version_minor": 0,
       "model_id": "95c5f17d003e4f9fa8647ce81fdfce3a"
      }
     },
     "metadata": {},
     "output_type": "display_data"
    },
    {
     "data": {
      "text/plain": [
       "Uploading the dataset shards:   0%|          | 0/1 [00:00<?, ?it/s]"
      ],
      "application/vnd.jupyter.widget-view+json": {
       "version_major": 2,
       "version_minor": 0,
       "model_id": "96ad819cce3d475587ddfb39707d6824"
      }
     },
     "metadata": {},
     "output_type": "display_data"
    },
    {
     "data": {
      "text/plain": [
       "Creating parquet from Arrow format:   0%|          | 0/1 [00:00<?, ?ba/s]"
      ],
      "application/vnd.jupyter.widget-view+json": {
       "version_major": 2,
       "version_minor": 0,
       "model_id": "30cc70f81fc342cf9de8131917f48f97"
      }
     },
     "metadata": {},
     "output_type": "display_data"
    },
    {
     "data": {
      "text/plain": [
       "README.md:   0%|          | 0.00/436 [00:00<?, ?B/s]"
      ],
      "application/vnd.jupyter.widget-view+json": {
       "version_major": 2,
       "version_minor": 0,
       "model_id": "8248ac6590314706a1a3adbf687cfc48"
      }
     },
     "metadata": {},
     "output_type": "display_data"
    },
    {
     "data": {
      "text/plain": [
       "CommitInfo(commit_url='https://huggingface.co/datasets/evilfreelancer/php-ru-en/commit/23853307f3b2c763cebd8ef09dbf587dfd44cb68', commit_message='Upload dataset', commit_description='', oid='23853307f3b2c763cebd8ef09dbf587dfd44cb68', pr_url=None, pr_revision=None, pr_num=None)"
      ]
     },
     "execution_count": 59,
     "metadata": {},
     "output_type": "execute_result"
    }
   ],
   "execution_count": 59
  }
 ],
 "metadata": {
  "kernelspec": {
   "display_name": "Python 3",
   "language": "python",
   "name": "python3"
  },
  "language_info": {
   "codemirror_mode": {
    "name": "ipython",
    "version": 2
   },
   "file_extension": ".py",
   "mimetype": "text/x-python",
   "name": "python",
   "nbconvert_exporter": "python",
   "pygments_lexer": "ipython2",
   "version": "2.7.6"
  }
 },
 "nbformat": 4,
 "nbformat_minor": 5
}
