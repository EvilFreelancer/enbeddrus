{
 "cells": [
  {
   "cell_type": "code",
   "id": "initial_id",
   "metadata": {
    "collapsed": true
   },
   "source": [
    "import pandas as pd\n",
    "\n",
    "# Load datasets\n",
    "df_php_eval = pd.read_csv('dataset_php_eval.csv')\n",
    "df_php_train = pd.read_csv('./dataset/docs_php.undup.csv')\n",
    "\n",
    "# Reindex evaluation dataset\n",
    "df_php_eval.drop(columns=['id'], inplace=True)\n",
    "df_php_eval.reset_index(drop=True, inplace=True)\n",
    "df_php_eval.index.name = 'id'\n",
    "\n",
    "# Reindex training dataset\n",
    "df_php_train.drop(columns=['id'], inplace=True)\n",
    "df_php_train.reset_index(drop=True, inplace=True)\n",
    "df_php_train.index.name = 'id'"
   ],
   "outputs": [],
   "execution_count": null
  },
  {
   "metadata": {},
   "cell_type": "code",
   "source": [
    "from datasets import DatasetDict, Dataset\n",
    "\n",
    "dataset = DatasetDict({\n",
    "    'train': Dataset.from_pandas(df_php_train),\n",
    "    'eval': Dataset.from_pandas(df_php_eval),\n",
    "})\n",
    "\n",
    "dataset"
   ],
   "id": "5df6d136443c5f80",
   "outputs": [],
   "execution_count": null
  },
  {
   "metadata": {},
   "cell_type": "code",
   "source": "dataset.push_to_hub('evilfreelancer/opus-php-en-ru-cleaned')",
   "id": "f61e2d1a032a455e",
   "outputs": [],
   "execution_count": null
  }
 ],
 "metadata": {
  "kernelspec": {
   "display_name": "Python 3",
   "language": "python",
   "name": "python3"
  },
  "language_info": {
   "codemirror_mode": {
    "name": "ipython",
    "version": 2
   },
   "file_extension": ".py",
   "mimetype": "text/x-python",
   "name": "python",
   "nbconvert_exporter": "python",
   "pygments_lexer": "ipython2",
   "version": "2.7.6"
  }
 },
 "nbformat": 4,
 "nbformat_minor": 5
}
